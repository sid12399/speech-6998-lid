{
 "cells": [
  {
   "cell_type": "code",
   "execution_count": 6,
   "id": "5c9f8fec",
   "metadata": {},
   "outputs": [
    {
     "name": "stdout",
     "output_type": "stream",
     "text": [
      "Done\n"
     ]
    }
   ],
   "source": [
    "import os\n",
    "from glob import glob\n",
    "\n",
    "\n",
    "root_dir = \"/home/sp4013/kaldi-trunk/egs/lid/s1/db/cu-multilang-dataset/\"\n",
    "\n",
    "for fol in glob(root_dir + \"*/\"):\n",
    "    if os.path.exists(fol + \"spk2utt\"):\n",
    "        os.remove(fol + \"spk2utt\")\n",
    "    \n",
    "    spk2utt = []\n",
    "    with open(fol + \"wav.scp\") as infile:\n",
    "        for line in infile.readlines():\n",
    "            utt_id = line.split()[0]\n",
    "            speaker_name = utt_id\n",
    "            spk2utt.append((speaker_name, utt_id))\n",
    "            \n",
    "    with open(fol + \"spk2utt\", \"w\") as outfile:\n",
    "        for spk, utt in spk2utt:\n",
    "            outfile.write(spk + \"    \" + utt + \"\\n\")\n",
    "            \n",
    "print(\"Done\")"
   ]
  },
  {
   "cell_type": "code",
   "execution_count": null,
   "id": "38aa6b04",
   "metadata": {},
   "outputs": [],
   "source": []
  }
 ],
 "metadata": {
  "kernelspec": {
   "display_name": "Python 3 (ipykernel)",
   "language": "python",
   "name": "python3"
  },
  "language_info": {
   "codemirror_mode": {
    "name": "ipython",
    "version": 3
   },
   "file_extension": ".py",
   "mimetype": "text/x-python",
   "name": "python",
   "nbconvert_exporter": "python",
   "pygments_lexer": "ipython3",
   "version": "3.9.7"
  }
 },
 "nbformat": 4,
 "nbformat_minor": 5
}
